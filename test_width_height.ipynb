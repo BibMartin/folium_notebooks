{
 "cells": [
  {
   "cell_type": "code",
   "execution_count": 1,
   "metadata": {
    "collapsed": false
   },
   "outputs": [
    {
     "name": "stdout",
     "output_type": "stream",
     "text": [
      "/home/filipe/.virtualenvs/iris/lib/python2.7/site-packages/folium/__init__.py\n",
      "0.1.6\n"
     ]
    }
   ],
   "source": [
    "import folium\n",
    "\n",
    "print(folium.__file__)\n",
    "print(folium.__version__)"
   ]
  },
  {
   "cell_type": "code",
   "execution_count": 2,
   "metadata": {
    "collapsed": false
   },
   "outputs": [],
   "source": [
    "lon = -122.1889\n",
    "lat = 46.1991\n",
    "\n",
    "zoom_start = 13"
   ]
  },
  {
   "cell_type": "code",
   "execution_count": 3,
   "metadata": {
    "collapsed": false
   },
   "outputs": [
    {
     "data": {
      "text/html": [
       "<iframe src=\"data:text/html;base64,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\" width=100%; height=500px; border: none\"></iframe>"
      ],
      "text/plain": [
       "<folium.folium.Map at 0x7f183054ccd0>"
      ]
     },
     "execution_count": 3,
     "metadata": {},
     "output_type": "execute_result"
    }
   ],
   "source": [
    "width, height = 480, 350\n",
    "\n",
    "folium.Map(location=[lat, lon], tiles=\"OpenStreetMap\",\n",
    "           width=width, height=height, zoom_start=zoom_start)"
   ]
  },
  {
   "cell_type": "code",
   "execution_count": 4,
   "metadata": {
    "collapsed": false
   },
   "outputs": [
    {
     "data": {
      "text/html": [
       "<iframe src=\"data:text/html;base64,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\" width=100%; height=500px; border: none\"></iframe>"
      ],
      "text/plain": [
       "<folium.folium.Map at 0x7f1839451690>"
      ]
     },
     "execution_count": 4,
     "metadata": {},
     "output_type": "execute_result"
    }
   ],
   "source": [
    "width, height = '100%', 350\n",
    "\n",
    "folium.Map(location=[lat, lon], tiles=\"OpenStreetMap\",\n",
    "           width=width, height=height, zoom_start=zoom_start)"
   ]
  },
  {
   "cell_type": "code",
   "execution_count": 5,
   "metadata": {
    "collapsed": false
   },
   "outputs": [
    {
     "data": {
      "text/html": [
       "<iframe src=\"data:text/html;base64,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\" width=100%; height=500px; border: none\"></iframe>"
      ],
      "text/plain": [
       "<folium.folium.Map at 0x7f1839451250>"
      ]
     },
     "execution_count": 5,
     "metadata": {},
     "output_type": "execute_result"
    }
   ],
   "source": [
    "width, height = 480, '100%'\n",
    "\n",
    "folium.Map(location=[lat, lon], tiles=\"OpenStreetMap\",\n",
    "           width=width, height=height, zoom_start=zoom_start)"
   ]
  },
  {
   "cell_type": "code",
   "execution_count": 6,
   "metadata": {
    "collapsed": false
   },
   "outputs": [
    {
     "data": {
      "text/html": [
       "<iframe src=\"data:text/html;base64,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\" width=100%; height=500px; border: none\"></iframe>"
      ],
      "text/plain": [
       "<folium.folium.Map at 0x7f1839451890>"
      ]
     },
     "execution_count": 6,
     "metadata": {},
     "output_type": "execute_result"
    }
   ],
   "source": [
    "width, height = '50%', '80%'\n",
    "\n",
    "folium.Map(location=[lat, lon], tiles=\"OpenStreetMap\",\n",
    "           width=width, height=height, zoom_start=zoom_start)"
   ]
  },
  {
   "cell_type": "code",
   "execution_count": 7,
   "metadata": {
    "collapsed": false
   },
   "outputs": [
    {
     "name": "stdout",
     "output_type": "stream",
     "text": [
      "Cannot parse width 150 as '%'\n"
     ]
    }
   ],
   "source": [
    "width, height = '150%', '100%'\n",
    "\n",
    "try:\n",
    "    folium.Map(location=[lat, lon], tiles=\"OpenStreetMap\",\n",
    "               width=width, height=height, zoom_start=zoom_start)\n",
    "except ValueError as e:\n",
    "    print(e)"
   ]
  },
  {
   "cell_type": "code",
   "execution_count": 8,
   "metadata": {
    "collapsed": false
   },
   "outputs": [
    {
     "name": "stdout",
     "output_type": "stream",
     "text": [
      "Cannot parse height '80p' as '%'\n"
     ]
    }
   ],
   "source": [
    "width, height = '50%', '80p'\n",
    "\n",
    "try:\n",
    "    folium.Map(location=[lat, lon], tiles=\"OpenStreetMap\",\n",
    "               width=width, height=height, zoom_start=zoom_start)\n",
    "except ValueError as e:\n",
    "    print(e)"
   ]
  },
  {
   "cell_type": "code",
   "execution_count": 9,
   "metadata": {
    "collapsed": false
   },
   "outputs": [
    {
     "name": "stdout",
     "output_type": "stream",
     "text": [
      "Cannot parse height -350 as 'px'\n"
     ]
    }
   ],
   "source": [
    "width, height = width, height = 480, -350\n",
    "\n",
    "try:\n",
    "    folium.Map(location=[lat, lon], tiles=\"OpenStreetMap\",\n",
    "               width=width, height=height, zoom_start=zoom_start)\n",
    "except ValueError as e:\n",
    "    print(e)"
   ]
  }
 ],
 "metadata": {
  "kernelspec": {
   "display_name": "Iris (Python 2)",
   "language": "python",
   "name": "iris_python2"
  },
  "language_info": {
   "codemirror_mode": {
    "name": "ipython",
    "version": 2
   },
   "file_extension": ".py",
   "mimetype": "text/x-python",
   "name": "python",
   "nbconvert_exporter": "python",
   "pygments_lexer": "ipython2",
   "version": "2.7.8"
  }
 },
 "nbformat": 4,
 "nbformat_minor": 0
}
