{
 "metadata": {
  "name": "",
  "signature": "sha256:3855af734e74a1f79a222734222c735abe74a58702bfbd9aa4fb4dfb5e0507b2"
 },
 "nbformat": 3,
 "nbformat_minor": 0,
 "worksheets": [
  {
   "cells": [
    {
     "cell_type": "code",
     "collapsed": false,
     "input": [
      "import folium\n",
      "from IPython.display import IFrame, HTML\n",
      "\n",
      "\n",
      "def inline_map(m):\n",
      "    \"\"\"\n",
      "    Takes a folium instance or a html path and load into an iframe.\n",
      "\n",
      "    Examples\n",
      "    --------\n",
      "    >>> import os\n",
      "    >>> from IPython.display import HTML, IFrame\n",
      "    >>> bbox = [-87.40, 24.25, -74.70, 36.70]\n",
      "    >>> m = make_map(bbox)\n",
      "    >>> html = inline_map(m)\n",
      "    >>> isinstance(html, HTML)\n",
      "    True\n",
      "    >>> fname = os.path.join('data', 'mapa.html')\n",
      "    >>> html = inline_map(fname)\n",
      "    >>> isinstance(html, IFrame)\n",
      "    True\n",
      "\n",
      "    \"\"\"\n",
      "    if isinstance(m, folium.Map):\n",
      "        m._build_map()\n",
      "        srcdoc = m.HTML.replace('\"', '&quot;')\n",
      "        embed = HTML('<iframe srcdoc=\"{srcdoc}\" '\n",
      "                     'style=\"width: 100%; height: 500px; '\n",
      "                     'border: none\"></iframe>'.format(srcdoc=srcdoc))\n",
      "    elif isinstance(m, str):\n",
      "        embed = IFrame(m, width=750, height=500)\n",
      "    return embed"
     ],
     "language": "python",
     "metadata": {},
     "outputs": []
    },
    {
     "cell_type": "code",
     "collapsed": false,
     "input": [
      "import matplotlib.pyplot as plt\n",
      "\n",
      "\n",
      "fname = (\"https://raw.githubusercontent.com/ocefpaf/\"\n",
      "         \"python4oceanographers/master/content/downloads/\"\n",
      "         \"notebooks/data/itaguare_cropped.jpg\")\n",
      "\n",
      "min_lon = -(45 + (58 + 32.27/60) / 60)  # 45\u00b058'32.27\"W\n",
      "max_lon = -(45 + (57 + 54.54/60) / 60)  # 45\u00b057'54.54\"W\n",
      "min_lat = -(23 + (47 +  7.65/60) / 60)  # 23\u00b047' 7.65\"S\n",
      "max_lat = -(23 + (46 + 42.25/60) / 60)  # 23\u00b046'42.25\"S\n",
      "\n",
      "kw = dict(width=650, height=500,\n",
      "          min_lon=min_lon, max_lon=max_lon,\n",
      "          min_lat=min_lat, max_lat=max_lat,\n",
      "          zoom_start=15)\n",
      "\n",
      "\n",
      "mapa = folium.Map(location=[-47.563861111111109, -91.940780555555563],\n",
      "                  tiles='Stamen Toner', **kw)\n",
      "mapa.image_overlay(fname, min_lat=min_lat, max_lat=max_lat,\n",
      "                   min_lon=min_lon, max_lon=max_lon, opacity=1)\n",
      "mapa.create_map(path='map.html')\n",
      "\n",
      "inline_map(mapa)"
     ],
     "language": "python",
     "metadata": {},
     "outputs": []
    },
    {
     "cell_type": "code",
     "collapsed": false,
     "input": [
      "data = plt.imread('data/itaguare_cropped.jpg')\n",
      "\n",
      "mapa = folium.Map(location=[-47.563861111111109, -91.940780555555563],\n",
      "                  tiles='Stamen Toner', **kw)\n",
      "mapa.image_overlay(data, min_lat=min_lat, max_lat=max_lat,\n",
      "                   min_lon=min_lon, max_lon=max_lon, opacity=1,\n",
      "                   data_projection=None)\n",
      "mapa.create_map(path='map.html')\n",
      "inline_map(mapa)"
     ],
     "language": "python",
     "metadata": {},
     "outputs": []
    },
    {
     "cell_type": "code",
     "collapsed": false,
     "input": [
      "%matplotlib inline\n",
      "\n",
      "plt.imshow(data)"
     ],
     "language": "python",
     "metadata": {},
     "outputs": []
    },
    {
     "cell_type": "code",
     "collapsed": false,
     "input": [
      "from folium.utilities import geodetic_to_mercator\n",
      "\n",
      "data2 = geodetic_to_mercator(data)\n",
      "plt.imshow(data2)"
     ],
     "language": "python",
     "metadata": {},
     "outputs": []
    },
    {
     "cell_type": "code",
     "collapsed": false,
     "input": [
      "data.shape, data2.shape"
     ],
     "language": "python",
     "metadata": {},
     "outputs": []
    },
    {
     "cell_type": "code",
     "collapsed": false,
     "input": [
      "import base64\n",
      "from IPython.display import display\n",
      "from folium.utilities import write_png\n",
      "\n",
      "png_str = write_png(data2)\n",
      "\n",
      "png = \"data:image/png;base64,{}\".format(base64.b64encode(png_str))\n",
      "\n",
      "display(HTML('<img src=\"%s\"/>' % png))"
     ],
     "language": "python",
     "metadata": {},
     "outputs": []
    }
   ],
   "metadata": {}
  }
 ]
}