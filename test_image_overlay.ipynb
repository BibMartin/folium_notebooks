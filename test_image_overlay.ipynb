{
 "cells": [
  {
   "cell_type": "code",
   "execution_count": 1,
   "metadata": {
    "collapsed": false
   },
   "outputs": [
    {
     "name": "stdout",
     "output_type": "stream",
     "text": [
      "/home/filipe/.virtualenvs/iris/lib/python2.7/site-packages/folium/__init__.py\n",
      "0.1.6\n"
     ]
    }
   ],
   "source": [
    "import folium\n",
    "\n",
    "print(folium.__file__)\n",
    "print(folium.__version__)"
   ]
  },
  {
   "cell_type": "code",
   "execution_count": 2,
   "metadata": {
    "collapsed": false
   },
   "outputs": [
    {
     "data": {
      "text/html": [
       "<iframe src=\"data:text/html;base64,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\" width=100%; height=500px; border: none\"></iframe>"
      ],
      "text/plain": [
       "<folium.folium.Map at 0x7f99dfd02fd0>"
      ]
     },
     "execution_count": 2,
     "metadata": {},
     "output_type": "execute_result"
    }
   ],
   "source": [
    "import matplotlib.pyplot as plt\n",
    "\n",
    "\n",
    "fname = (\"https://raw.githubusercontent.com/ocefpaf/\"\n",
    "         \"python4oceanographers/master/content/downloads/\"\n",
    "         \"notebooks/data/itaguare_cropped.jpg\")\n",
    "\n",
    "min_lon = -(45 + (58 + 32.27/60) / 60)  # 45°58'32.27\"W\n",
    "max_lon = -(45 + (57 + 54.54/60) / 60)  # 45°57'54.54\"W\n",
    "min_lat = -(23 + (47 +  7.65/60) / 60)  # 23°47' 7.65\"S\n",
    "max_lat = -(23 + (46 + 42.25/60) / 60)  # 23°46'42.25\"S\n",
    "\n",
    "kw = dict(width=650, height=500,\n",
    "          min_lon=min_lon, max_lon=max_lon,\n",
    "          min_lat=min_lat, max_lat=max_lat,\n",
    "          zoom_start=15)\n",
    "\n",
    "\n",
    "mapa = folium.Map(location=[-47.563861111111109, -91.940780555555563],\n",
    "                  tiles='Stamen Toner', **kw)\n",
    "mapa.image_overlay(fname,\n",
    "                   min_lat=min_lat, max_lat=max_lat,\n",
    "                   min_lon=min_lon, max_lon=max_lon, image_opacity=1)\n",
    "\n",
    "mapa"
   ]
  }
 ],
 "metadata": {
  "kernelspec": {
   "display_name": "Iris (Python 2)",
   "language": "python",
   "name": "iris_python2"
  },
  "language_info": {
   "codemirror_mode": {
    "name": "ipython",
    "version": 2
   },
   "file_extension": ".py",
   "mimetype": "text/x-python",
   "name": "python",
   "nbconvert_exporter": "python",
   "pygments_lexer": "ipython2",
   "version": "2.7.8"
  }
 },
 "nbformat": 4,
 "nbformat_minor": 0
}
