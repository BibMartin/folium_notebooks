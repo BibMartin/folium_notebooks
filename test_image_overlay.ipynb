{
 "cells": [
  {
   "cell_type": "code",
   "execution_count": null,
   "metadata": {
    "collapsed": false
   },
   "outputs": [],
   "source": [
    "import folium\n",
    "\n",
    "print(folium.__file__)\n",
    "print(folium.__version__)"
   ]
  },
  {
   "cell_type": "code",
   "execution_count": null,
   "metadata": {
    "collapsed": false
   },
   "outputs": [],
   "source": [
    "import matplotlib.pyplot as plt\n",
    "\n",
    "\n",
    "fname = (\"https://raw.githubusercontent.com/ocefpaf/\"\n",
    "         \"python4oceanographers/master/content/downloads/\"\n",
    "         \"notebooks/data/itaguare_cropped.jpg\")\n",
    "\n",
    "min_lon = -(45 + (58 + 32.27/60) / 60)  # 45°58'32.27\"W\n",
    "max_lon = -(45 + (57 + 54.54/60) / 60)  # 45°57'54.54\"W\n",
    "min_lat = -(23 + (47 +  7.65/60) / 60)  # 23°47' 7.65\"S\n",
    "max_lat = -(23 + (46 + 42.25/60) / 60)  # 23°46'42.25\"S\n",
    "\n",
    "kw = dict(width=650, height=500,\n",
    "          min_lon=min_lon, max_lon=max_lon,\n",
    "          min_lat=min_lat, max_lat=max_lat,\n",
    "          zoom_start=15)\n",
    "\n",
    "\n",
    "mapa = folium.Map(location=[-47.563861111111109, -91.940780555555563],\n",
    "                  tiles='Stamen Toner', **kw)\n",
    "mapa.image_overlay(fname, min_lat=min_lat, max_lat=max_lat,\n",
    "                   min_lon=min_lon, max_lon=max_lon, opacity=1)\n",
    "\n",
    "mapa"
   ]
  },
  {
   "cell_type": "code",
   "execution_count": null,
   "metadata": {
    "collapsed": false
   },
   "outputs": [],
   "source": [
    "data = plt.imread('data/itaguare_cropped.jpg')\n",
    "\n",
    "mapa = folium.Map(location=[-47.563861111111109, -91.940780555555563],\n",
    "                  tiles='Stamen Toner', **kw)\n",
    "mapa.image_overlay(data, min_lat=min_lat, max_lat=max_lat,\n",
    "                   min_lon=min_lon, max_lon=max_lon, opacity=1,\n",
    "                   data_projection=None)\n",
    "\n",
    "mapa"
   ]
  },
  {
   "cell_type": "code",
   "execution_count": null,
   "metadata": {
    "collapsed": false
   },
   "outputs": [],
   "source": [
    "%matplotlib inline\n",
    "\n",
    "plt.imshow(data)"
   ]
  },
  {
   "cell_type": "code",
   "execution_count": null,
   "metadata": {
    "collapsed": false
   },
   "outputs": [],
   "source": [
    "from folium.utilities import geodetic_to_mercator\n",
    "\n",
    "data2 = geodetic_to_mercator(data)\n",
    "plt.imshow(data2)"
   ]
  },
  {
   "cell_type": "code",
   "execution_count": null,
   "metadata": {
    "collapsed": false
   },
   "outputs": [],
   "source": [
    "data.shape, data2.shape"
   ]
  },
  {
   "cell_type": "code",
   "execution_count": null,
   "metadata": {
    "collapsed": false
   },
   "outputs": [],
   "source": [
    "import base64\n",
    "from IPython.display import display, HTML\n",
    "from folium.utilities import write_png\n",
    "\n",
    "png_str = write_png(data2)\n",
    "\n",
    "png = \"data:image/png;base64,{}\".format(base64.b64encode(png_str))\n",
    "\n",
    "display(HTML('<img src=\"%s\"/>' % png))"
   ]
  }
 ],
 "metadata": {
  "kernelspec": {
   "display_name": "Iris (Python 2)",
   "language": "python",
   "name": "iris_python2"
  },
  "language_info": {
   "codemirror_mode": {
    "name": "ipython",
    "version": 2
   },
   "file_extension": ".py",
   "mimetype": "text/x-python",
   "name": "python",
   "nbconvert_exporter": "python",
   "pygments_lexer": "ipython2",
   "version": "2.7.8"
  }
 },
 "nbformat": 4,
 "nbformat_minor": 0
}
