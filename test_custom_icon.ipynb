{
 "cells": [
  {
   "cell_type": "code",
   "execution_count": null,
   "metadata": {
    "collapsed": false
   },
   "outputs": [],
   "source": [
    "import folium\n",
    "\n",
    "print(folium.__file__)\n",
    "print(folium.__version__)"
   ]
  },
  {
   "cell_type": "code",
   "execution_count": null,
   "metadata": {
    "collapsed": false
   },
   "outputs": [],
   "source": [
    "from folium.features import CustomIcon\n",
    "\n",
    "mapa = folium.Map(location=[45.372, -121.6972], zoom_start=12,tiles='Stamen Terrain')\n",
    "\n",
    "icon_image = \"http://leafletjs.com/docs/images/leaf-green.png\"\n",
    "shadow_image = \"http://leafletjs.com/docs/images/leaf-shadow.png\"\n",
    "\n",
    "icon = CustomIcon(icon_image,\n",
    "                  icon_size=(38,95),\n",
    "                  icon_anchor=(22,94),\n",
    "                  shadow_image=shadow_image,\n",
    "                  shadow_size=(50,64),\n",
    "                  shadow_anchor=(4,62),\n",
    "                  popup_anchor=(-3,-76))\n",
    "\n",
    "marker = folium.map.Marker([45.3288, -121.6625], icon=icon,\n",
    "                           popup=folium.map.Popup('Mt. Hood Meadows'))\n",
    "\n",
    "\n",
    "mapa.add_children(marker)\n",
    "mapa"
   ]
  }
 ],
 "metadata": {
  "kernelspec": {
   "display_name": "Iris (Python 2)",
   "language": "python",
   "name": "iris_python2"
  },
  "language_info": {
   "codemirror_mode": {
    "name": "ipython",
    "version": 2
   },
   "file_extension": ".py",
   "mimetype": "text/x-python",
   "name": "python",
   "nbconvert_exporter": "python",
   "pygments_lexer": "ipython2",
   "version": "2.7.8"
  }
 },
 "nbformat": 4,
 "nbformat_minor": 0
}
