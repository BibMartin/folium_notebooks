{
 "cells": [
  {
   "cell_type": "code",
   "execution_count": 1,
   "metadata": {
    "collapsed": false
   },
   "outputs": [
    {
     "name": "stdout",
     "output_type": "stream",
     "text": [
      "/home/filipe/.virtualenvs/iris/lib/python2.7/site-packages/folium/__init__.py\n",
      "0.2.0.dev\n"
     ]
    }
   ],
   "source": [
    "import folium\n",
    "\n",
    "print(folium.__file__)\n",
    "print(folium.__version__)"
   ]
  },
  {
   "cell_type": "code",
   "execution_count": 2,
   "metadata": {
    "collapsed": false
   },
   "outputs": [
    {
     "data": {
      "text/html": [
       "\n",
       "            <div style=\"width:100%;\">\n",
       "            <div style=\"position:relative;width:100%;height:0;padding-bottom:60%;\">\n",
       "            <iframe src=\"data:text/html;base64,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\" style=\"position:absolute;width:100%;height:100%;left:0;top:0;\">\n",
       "            </iframe>\n",
       "            </div></div>"
      ],
      "text/plain": [
       "<folium.folium.Map at 0x7f091963bb90>"
      ]
     },
     "execution_count": 2,
     "metadata": {},
     "output_type": "execute_result"
    }
   ],
   "source": [
    "import json\n",
    "\n",
    "import folium\n",
    "import vincent\n",
    "import numpy as np\n",
    "import pandas as pd\n",
    "\n",
    "\n",
    "sales = folium.Map(location=[51.5, 0], zoom_start=7, tiles='stamentoner')\n",
    "\n",
    "\n",
    "def make_hex_color(mn, mx, value):\n",
    "    \"\"\"Make a black -> red hex colour.\"\"\"\n",
    "    assert mn <= value\n",
    "    assert value <= mx\n",
    "    percent = (1/(mx-mn)) * (value-mn)\n",
    "    red_in_hex_range = int(255 * percent)\n",
    "    color = \"#{:02x}0000\".format(red_in_hex_range)\n",
    "    return color\n",
    "\n",
    "\n",
    "prices = np.random.uniform(low=100000, high=10000000, size=12).astype(np.int_)\n",
    "df = pd.DataFrame({'price': prices})\n",
    "\n",
    "bar = vincent.Line(df['price'], width=200, height=150)\n",
    "bar.axis_titles(x='Month', y='')\n",
    "\n",
    "    \n",
    "vega = folium.Vega(json.loads(bar.to_json()))\n",
    "popup = folium.Popup(vega, max_width=300)\n",
    "\n",
    "circle = folium.CircleMarker(location=[51.521282, -0.115279],\n",
    "                             radius=5000,\n",
    "                             color='#ff0000',\n",
    "                             fill_color=make_hex_color(0, 1000000, 1000000),\n",
    "                             popup=popup)\n",
    "\n",
    "sales.add_children(circle)\n",
    "sales"
   ]
  }
 ],
 "metadata": {
  "kernelspec": {
   "display_name": "Iris (Python 2)",
   "language": "python",
   "name": "iris_python2"
  },
  "language_info": {
   "codemirror_mode": {
    "name": "ipython",
    "version": 2
   },
   "file_extension": ".py",
   "mimetype": "text/x-python",
   "name": "python",
   "nbconvert_exporter": "python",
   "pygments_lexer": "ipython2",
   "version": "2.7.8"
  }
 },
 "nbformat": 4,
 "nbformat_minor": 0
}
