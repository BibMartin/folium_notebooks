{
 "cells": [
  {
   "cell_type": "code",
   "execution_count": 1,
   "metadata": {
    "collapsed": false
   },
   "outputs": [
    {
     "name": "stdout",
     "output_type": "stream",
     "text": [
      "/home/filipe/.virtualenvs/iris/lib/python2.7/site-packages/folium/__init__.py\n",
      "0.1.6\n"
     ]
    }
   ],
   "source": [
    "import folium\n",
    "\n",
    "print(folium.__file__)\n",
    "print(folium.__version__)"
   ]
  },
  {
   "cell_type": "code",
   "execution_count": 2,
   "metadata": {
    "collapsed": false
   },
   "outputs": [
    {
     "data": {
      "text/html": [
       "<iframe src=\"data:text/html;base64,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\" width=100%; height=500px; border: none\"></iframe>"
      ],
      "text/plain": [
       "<folium.folium.Map at 0x7f093719bc50>"
      ]
     },
     "execution_count": 2,
     "metadata": {},
     "output_type": "execute_result"
    }
   ],
   "source": [
    "import pandas as pd\n",
    "import numpy as np\n",
    "import folium\n",
    "import vincent\n",
    "\n",
    "sales = folium.Map(location=[51.5, 0], zoom_start=7, tiles='stamentoner')\n",
    "\n",
    "\n",
    "def make_hex_color(mn, mx, value):\n",
    "    \"\"\"Make a black->red hex colour\"\"\"\n",
    "    assert mn <= value\n",
    "    assert value <= mx\n",
    "    percent = (1/(mx-mn)) * (value-mn)\n",
    "    red_in_hex_range = int(255 * percent)\n",
    "    # make a HTML color code e.g. #ff0000\n",
    "    color = \"#{:02x}0000\".format(red_in_hex_range)\n",
    "    return color\n",
    "\n",
    "\n",
    "prices = np.random.uniform(low=100000, high=10000000, size=12).astype(np.int_)\n",
    "df = pd.DataFrame({'price': prices})\n",
    "\n",
    "bar = vincent.Line(df['price'], width=200, height=150)\n",
    "bar.axis_titles(x='Month', y='')\n",
    "bar_json = bar.to_json()\n",
    "with open('bar.json', 'w') as f:\n",
    "    f.write(bar_json)\n",
    "\n",
    "sales.circle_marker(location=[51.521282, -0.115279], radius=5000,\n",
    "                    line_color='#ff0000',\n",
    "                    fill_color=make_hex_color(0, 1000000, 1000000),\n",
    "                    popup=(bar, \"bar.json\"), popup_width=300)\n",
    "\n",
    "sales"
   ]
  },
  {
   "cell_type": "code",
   "execution_count": 3,
   "metadata": {
    "collapsed": true
   },
   "outputs": [],
   "source": [
    "sales.create_map(\"mapa.html\")"
   ]
  }
 ],
 "metadata": {
  "kernelspec": {
   "display_name": "Iris (Python 2)",
   "language": "python",
   "name": "iris_python2"
  },
  "language_info": {
   "codemirror_mode": {
    "name": "ipython",
    "version": 2
   },
   "file_extension": ".py",
   "mimetype": "text/x-python",
   "name": "python",
   "nbconvert_exporter": "python",
   "pygments_lexer": "ipython2",
   "version": "2.7.8"
  }
 },
 "nbformat": 4,
 "nbformat_minor": 0
}
