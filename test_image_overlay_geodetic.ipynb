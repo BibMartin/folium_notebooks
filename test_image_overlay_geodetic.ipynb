{
 "cells": [
  {
   "cell_type": "code",
   "execution_count": 1,
   "metadata": {
    "collapsed": false
   },
   "outputs": [
    {
     "name": "stdout",
     "output_type": "stream",
     "text": [
      "/home/filipe/.virtualenvs/iris/lib/python2.7/site-packages/folium/__init__.py\n",
      "0.1.6\n"
     ]
    }
   ],
   "source": [
    "import folium\n",
    "\n",
    "print(folium.__file__)\n",
    "print(folium.__version__)"
   ]
  },
  {
   "cell_type": "code",
   "execution_count": 2,
   "metadata": {
    "collapsed": true
   },
   "outputs": [],
   "source": [
    "import json\n",
    "from IPython.display import HTML\n",
    "\n",
    "\n",
    "def inline_map(m, width=750, height=500):\n",
    "    \"\"\"Takes a Folium map instance and return an iframe.\"\"\"\n",
    "    m._build_map()\n",
    "    srcdoc = m.HTML\n",
    "\n",
    "    # FIXME: Needs the same for plug-in data.\n",
    "    if m.json_data:\n",
    "        callback = 'function(callback){{callback(null, JSON.parse({}))}}'\n",
    "        for path, data in m.json_data.items():\n",
    "            json_data = json.dumps(data).replace('\"', '&quot;')\n",
    "            srcdoc = srcdoc.replace('d3.json, {}'.format(repr(path)),\n",
    "                                    callback.format((repr(json_data))))\n",
    "\n",
    "    srcdoc = srcdoc.replace('\"', '&quot;')\n",
    "    embed = HTML('<iframe srcdoc=\"{srcdoc}\" '\n",
    "                 'style=\"width: 100%; height: {height}px; '\n",
    "                 'border: none\"></iframe>'.format(srcdoc=srcdoc,\n",
    "                                                  height=height))\n",
    "    return embed\n"
   ]
  },
  {
   "cell_type": "code",
   "execution_count": 3,
   "metadata": {
    "collapsed": false
   },
   "outputs": [],
   "source": [
    "import numpy as np\n",
    "\n",
    "\n",
    "def sample_data(shape=(73, 145)):\n",
    "    nlats, nlons = shape\n",
    "    lats = np.linspace(-np.pi / 2, np.pi / 2, nlats)\n",
    "    lons = np.linspace(0, 2 * np.pi, nlons)\n",
    "    lons, lats = np.meshgrid(lons, lats)\n",
    "    wave = 0.75 * (np.sin(2 * lats) ** 8) * np.cos(4 * lons)\n",
    "    mean = 0.5 * np.cos(2 * lats) * ((np.sin(2 * lats)) ** 2 + 2)\n",
    "\n",
    "    lats = np.rad2deg(lats)\n",
    "    lons = np.rad2deg(lons)\n",
    "    data = wave + mean\n",
    "\n",
    "    return lons, lats, data\n",
    "\n",
    "\n",
    "lon, lat, data = sample_data(shape=(73, 145))\n",
    "lon -= 180"
   ]
  },
  {
   "cell_type": "code",
   "execution_count": 4,
   "metadata": {
    "collapsed": false
   },
   "outputs": [],
   "source": [
    "%matplotlib inline\n",
    "\n",
    "import matplotlib\n",
    "\n",
    "cm = matplotlib.cm.get_cmap('cubehelix')\n",
    "\n",
    "normed_data = (data - data.min()) / (data.max() - data.min())\n",
    "colored_data = cm(normed_data)"
   ]
  },
  {
   "cell_type": "markdown",
   "metadata": {},
   "source": [
    "# Bad"
   ]
  },
  {
   "cell_type": "code",
   "execution_count": 5,
   "metadata": {
    "collapsed": false
   },
   "outputs": [
    {
     "data": {
      "text/html": [
       "<iframe src=\"data:text/html;base64,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\" width=100%; height=500px; border: none\"></iframe>"
      ],
      "text/plain": [
       "<folium.folium.Map at 0x7f2c804be250>"
      ]
     },
     "execution_count": 5,
     "metadata": {},
     "output_type": "execute_result"
    }
   ],
   "source": [
    "mapa = folium.Map(location=[lat.mean(), lon.mean()], zoom_start=1)\n",
    "\n",
    "mapa.image_overlay(colored_data, min_lat=lat.min(), max_lat=lat.max(),\n",
    "                   min_lon=lon.min(), max_lon=lon.max(), image_opacity=0.25)\n",
    "\n",
    "mapa"
   ]
  },
  {
   "cell_type": "markdown",
   "metadata": {},
   "source": [
    "# Good"
   ]
  },
  {
   "cell_type": "code",
   "execution_count": 6,
   "metadata": {
    "collapsed": false
   },
   "outputs": [
    {
     "data": {
      "text/html": [
       "<iframe src=\"data:text/html;base64,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\" width=100%; height=500px; border: none\"></iframe>"
      ],
      "text/plain": [
       "<folium.folium.Map at 0x7f2c804e0190>"
      ]
     },
     "execution_count": 6,
     "metadata": {},
     "output_type": "execute_result"
    }
   ],
   "source": [
    "from folium.utilities import geodetic_to_mercator\n",
    "\n",
    "\n",
    "mapa = folium.Map(location=[lat.mean(), lon.mean()], zoom_start=1)\n",
    "\n",
    "mapa.image_overlay(geodetic_to_mercator(colored_data), min_lat=lat.min(), max_lat=lat.max(),\n",
    "                   min_lon=lon.min(), max_lon=lon.max(), image_opacity=0.25)\n",
    "\n",
    "mapa"
   ]
  },
  {
   "cell_type": "markdown",
   "metadata": {},
   "source": [
    "# Same as above but with cartopy"
   ]
  },
  {
   "cell_type": "code",
   "execution_count": 7,
   "metadata": {
    "collapsed": false
   },
   "outputs": [
    {
     "data": {
      "text/html": [
       "<iframe srcdoc=\"<!DOCTYPE html>\n",
       "<head>\n",
       "  <meta http-equiv=&quot;content-type&quot; content=&quot;text/html; charset=UTF-8&quot; />\n",
       "   <link rel=&quot;stylesheet&quot; href=&quot;https://rawgit.com/andrewgiessel/leafletstuff/master/leaflet.css&quot; />\n",
       "   <script src=&quot;https://cdnjs.cloudflare.com/ajax/libs/leaflet/0.7.3/leaflet.js&quot;></script>\n",
       "\n",
       "   <script src=&quot;https://ajax.googleapis.com/ajax/libs/jquery/1.11.1/jquery.min.js&quot;></script>\n",
       "\n",
       "   <link rel=&quot;stylesheet&quot; href=&quot;https://maxcdn.bootstrapcdn.com/bootstrap/3.2.0/css/bootstrap.min.css&quot;>\n",
       "   <link rel=&quot;stylesheet&quot; href=&quot;https://maxcdn.bootstrapcdn.com/bootstrap/3.2.0/css/bootstrap-theme.min.css&quot;>\n",
       "   <script src=&quot;https://maxcdn.bootstrapcdn.com/bootstrap/3.2.0/js/bootstrap.min.js&quot;></script>\n",
       "\n",
       "   <link href=&quot;https://maxcdn.bootstrapcdn.com/font-awesome/4.1.0/css/font-awesome.min.css&quot; rel=&quot;stylesheet&quot;>\n",
       "\n",
       "   <link rel=&quot;stylesheet&quot; href=&quot;https://rawgit.com/lvoogdt/Leaflet.awesome-markers/2.0/develop/dist/leaflet.awesome-markers.css&quot;>\n",
       "   <script src=&quot;https://rawgithub.com/lvoogdt/Leaflet.awesome-markers/2.0/develop/dist/leaflet.awesome-markers.js&quot;></script>\n",
       "\n",
       "\n",
       "   <link rel=&quot;stylesheet&quot; href=&quot;https://cdnjs.cloudflare.com/ajax/libs/leaflet.markercluster/0.4.0/MarkerCluster.Default.css&quot;>\n",
       "   <link rel=&quot;stylesheet&quot; href=&quot;https://cdnjs.cloudflare.com/ajax/libs/leaflet.markercluster/0.4.0/MarkerCluster.css&quot;>\n",
       "   <script src=&quot;https://cdnjs.cloudflare.com/ajax/libs/leaflet.markercluster/0.4.0/leaflet.markercluster-src.js&quot;></script>\n",
       "   <script src=&quot;https://cdnjs.cloudflare.com/ajax/libs/leaflet.markercluster/0.4.0/leaflet.markercluster.js&quot;></script>\n",
       "\n",
       "   <link rel=&quot;stylesheet&quot; href=&quot;https://birdage.github.io/Leaflet.awesome-markers/dist/leaflet.awesome.rotate.css&quot;>\n",
       "\n",
       "   \n",
       "   \n",
       "   \n",
       "   \n",
       "\n",
       "   <style>\n",
       "\n",
       "      html, body {\n",
       "        width: 100%;\n",
       "        height: 100%;\n",
       "        margin: 0;\n",
       "        padding: 0;\n",
       "      }\n",
       "\n",
       "      #map {\n",
       "        position:absolute;\n",
       "        top:0;\n",
       "        bottom:0;\n",
       "        right:0;\n",
       "        left:0;\n",
       "      }\n",
       "\n",
       "   </style>\n",
       "</head>\n",
       "\n",
       "<body>\n",
       "\n",
       "   <div class=&quot;folium-map&quot; id=&quot;folium_b9f2f5be34ab47a48160cba354bb10ed&quot; style=&quot;width: 100%; height: 100%&quot;></div>\n",
       "\n",
       "   <script>\n",
       "\n",
       "      \n",
       "\n",
       "      var base_tile = L.tileLayer('https://{s}.tile.openstreetmap.org/{z}/{x}/{y}.png', {\n",
       "          maxZoom: 18,\n",
       "          minZoom: 1,\n",
       "          attribution: 'Map data (c) <a href=&quot;http://openstreetmap.org&quot;>OpenStreetMap</a> contributors'\n",
       "      });\n",
       "\n",
       "      var baseLayer = {\n",
       "        &quot;Base Layer&quot;: base_tile\n",
       "      };\n",
       "\n",
       "      /*\n",
       "      addition of the wms layers\n",
       "      */\n",
       "\n",
       "      \n",
       "\n",
       "      /*\n",
       "      addition of the tile layers\n",
       "      */\n",
       "      \n",
       "\n",
       "      /*\n",
       "      list of layers to be added\n",
       "      */\n",
       "      var layer_list = {\n",
       "      \n",
       "      };\n",
       "\n",
       "      /*\n",
       "      Bounding box.\n",
       "      */\n",
       "      var southWest = L.latLng(-90, -180),\n",
       "          northEast = L.latLng(90, 180),\n",
       "          bounds = L.latLngBounds(southWest, northEast);\n",
       "\n",
       "      /*\n",
       "      Creates the map and adds the selected layers\n",
       "      */\n",
       "      var map = L.map('folium_b9f2f5be34ab47a48160cba354bb10ed', {\n",
       "                                       center:[0.0, -8.59229760768e-17],\n",
       "                                       zoom: 1,\n",
       "                                       maxBounds: bounds,\n",
       "                                       layers: [base_tile]\n",
       "                                     });\n",
       "\n",
       "      L.control.layers(baseLayer, layer_list).addTo(map);\n",
       "\n",
       "      /*\n",
       "      addition of the image layers\n",
       "      */\n",
       "      \n",
       "      var Image_Overlay = L.imageOverlay('data:image/png;base64,iVBORw0KGgoAAAANSUhEUgAAAEkAAACRCAYAAACPHpWeAAAFeklEQVR42u2db2hVZRzHz9xa0zlF3d3cNTMzIZB0WpTDNWsV6nKDEIQoogjBCupNxe61iEgQeuOLKHqTUW8ijF6MohcRsTXb1OZ0TgKxsj+2JXO7u3dz7l/fzve3nXUz2s7kMOzhe+HHs+f3fH9f5cNzzj333Oc81/M8D4oZQxAESZAESZAESZAESSFIgiRIgiRIgiRICkESJEESJEH6f0aOlwPF9CFIgiRIcwcpLycP00VuTu5UzKR11UeQBEmQ5g7SgrxCzM+d/48omFcwFfnz8qciO391jcs+giRIEUFacmMMjMX5yywW5S9B0Q2LsTCvyATBPxb8zTzHqQtqAg9XfQRJkCKCVLpoLSyK1iBWuArFC1ZgaUHpv4yzDThOHfWsm/Jw1EeQwkCKr9wCi/hmxEs2oWzpOhNQzKlGgyDYZ57j1FFvdYGHoz6CJEgRQSqpqEXJPTtRWl6DstsfQnxVJeKxcjsWWRgcw2zNyM9znDrqWcd6l30EKQyk5Y9vQ+mjOxB7ZCdiD9ShdFMN4rdUoWzZHSguXGkmfAcwM7/PPMepo551rHfZR5DCQLr/5Y2oePFOrHuhAiueehDFNbU21eJld6Nk4WqbkrwiZcs+8xynjnrWsd5lH0EKA+mtxH04kKzA3mQ5qvzETU9XI1Zdh/itW+1kRhN+xmFrJzc/z3HqqGcd61328U68ehBH972GhvrHsC95l9Er2V2D5et32DUDj1masWWfeY5TRz3rWO+yjyCFgdT+3ll0vN2O0298jC/qn7RptubZexGrqrPjlNcQnJJs2Wee49RRzzrWu+zjNR7L4Juv+9H24Xl0vP4+DiW22ckqtuthu6giZZ7Y2LLPPMepo551rHfZR5DCQDre1Ycj5/vR1JzGyXc70Zx8Cc8nN05MTf9sX7a22j7ksWV/9d6tNk4d9axj/Wx9mA98Tr3Tcc0+s/3/UD9bH+/HgT6cSfWi+Yd+tDT02LH4QaIG2+s3TFxfbPOvPitrrWWfeY5TRz3rWO+yjyCFgdQznMGvl1No+6MPja0Zm/otyVewP7nZjtHbnqvEzXuqrWWfeY5TRz3rWO+yjzcwOoSLV9JGren7NFo/vYjOAw34KvEM3kxswZ7kBuxOrLeWfeY5Th31rGO9yz4GibTOpnvR8kvKTlgnDp1D5/5PjOzn9U/gcP0ua9lnnuPUUc861rvs46VHL1uHx55NzTMZNH+ZsrfA0wePGF0ep9b6feY5Th31rGO9yz5e78iATaufB1Po7OtF62++sDODpqY0vv3sEo4e7sLxjy5Yyz7zHKeOetax3mUfQQoDiVOKHZ7JeRyeuuQbXkjZWyCnXmO7H22TLaesn+c4ddSzjvUu+xgkRvek4bnMxPXFyZ5efNfdh2O//x3sM89x6qjvnjRy2cdLjQzalArIdw31m+gn/8TFAlINgn3mOU5dQJr1LvvYJQDP4IyrjRndWRHksg2CWpd9vKGxYTAGx65MBQeyIxBnR7Y+8HDVxxsdHwNjeHzkmiPwcNXHG/9zHIrpw4NeM74ESZAESZAESZAESZD0+g9IuqIOccWtz24hPrvpLkCIuwC6nxTifpLuTIa4M6l73CHucevbkhDfluh7N305GQ0krQUIsRZAq0pCrCrR+qQQ65O00i3ESjetmdTC0mggaR13iHXceiJAj01EA0lPKYV4SknPu+mhwGgg6RncEM/g6mluPfIeDSTtMKFtOKKBpF1vtDVQNJC0E5e2KxOkOYOkfSa1GWc0kLT3rTYIFqQ5g6Sd3bX9vSDNGST9bol+3EWQBOl6gqTfb9OP4AmSIF1PkPQ7t/qxYEESJEESJEESJIUgCZIgCZIgCZIgKQRJkARJkARJkNyNvwCSI1SoBAohzAAAAABJRU5ErkJggg==', [[-90.0, -180.0], [90.0, 180.0]]).addTo(map).setOpacity(0.25);\n",
       "      \n",
       "      \n",
       "      //cluster group\n",
       "      var clusteredmarkers = L.markerClusterGroup();\n",
       "      //section for adding clustered markers\n",
       "      \n",
       "      //add the clustered markers to the group anyway\n",
       "      map.addLayer(clusteredmarkers);\n",
       "\n",
       "      \n",
       "\n",
       "      \n",
       "\n",
       "      \n",
       "\n",
       "      \n",
       "\n",
       "      \n",
       "\n",
       "      \n",
       "\n",
       "\n",
       "\n",
       "   </script>\n",
       "\n",
       "</body>\" style=\"width: 100%; height: 500px; border: none\"></iframe>"
      ],
      "text/plain": [
       "<IPython.core.display.HTML object>"
      ]
     },
     "execution_count": 7,
     "metadata": {},
     "output_type": "execute_result"
    }
   ],
   "source": [
    "import cartopy.crs as ccrs\n",
    "from cartopy.img_transform import warp_array\n",
    "\n",
    "source_extent = [lon.min(), lon.max(), lat.min(), lat.max()]\n",
    "\n",
    "new_data = warp_array(colored_data,\n",
    "                      target_proj=ccrs.GOOGLE_MERCATOR,\n",
    "                      source_proj=ccrs.PlateCarree(),\n",
    "                      target_res=data.shape,\n",
    "                      source_extent=source_extent,\n",
    "                      target_extent=None,\n",
    "                      mask_extrapolated=False)\n",
    "\n",
    "\n",
    "mapa = folium.Map(location=[lat.mean(), lon.mean()], zoom_start=1)\n",
    "mapa.image_overlay(new_data[0],\n",
    "                   min_lat=lat.min(), max_lat=lat.max(),\n",
    "                   min_lon=lon.min(), max_lon=lon.max(),\n",
    "                   image_opacity=0.25)\n",
    "\n",
    "inline_map(mapa)"
   ]
  },
  {
   "cell_type": "markdown",
   "metadata": {},
   "source": [
    "TODO: Try [rasterio](https://github.com/mapbox/rasterio/blob/ca75cf0a842943c1b3da4522e6ea3500215130fd/docs/reproject.rst).  Rasterio can warp images and arrays."
   ]
  },
  {
   "cell_type": "markdown",
   "metadata": {},
   "source": [
    "# Compare to original"
   ]
  },
  {
   "cell_type": "code",
   "execution_count": 8,
   "metadata": {
    "collapsed": false
   },
   "outputs": [
    {
     "data": {
      "text/html": [
       "\n",
       "        <iframe\n",
       "            width=\"900\"\n",
       "            height=\"750\"\n",
       "            src=\"http://scitools.org.uk/cartopy/docs/latest/examples/waves.html\"\n",
       "            frameborder=\"0\"\n",
       "            allowfullscreen\n",
       "        ></iframe>\n",
       "        "
      ],
      "text/plain": [
       "<IPython.lib.display.IFrame at 0x7f2c883fa9d0>"
      ]
     },
     "execution_count": 8,
     "metadata": {},
     "output_type": "execute_result"
    }
   ],
   "source": [
    "from IPython.display import IFrame\n",
    "\n",
    "IFrame(\"http://scitools.org.uk/cartopy/docs/latest/examples/waves.html\", width=900, height=750)"
   ]
  }
 ],
 "metadata": {
  "kernelspec": {
   "display_name": "Iris (Python 2)",
   "language": "python",
   "name": "iris_python2"
  },
  "language_info": {
   "codemirror_mode": {
    "name": "ipython",
    "version": 2
   },
   "file_extension": ".py",
   "mimetype": "text/x-python",
   "name": "python",
   "nbconvert_exporter": "python",
   "pygments_lexer": "ipython2",
   "version": "2.7.8"
  }
 },
 "nbformat": 4,
 "nbformat_minor": 0
}
