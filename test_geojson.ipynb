{
 "cells": [
  {
   "cell_type": "code",
   "execution_count": 1,
   "metadata": {
    "collapsed": false
   },
   "outputs": [
    {
     "name": "stdout",
     "output_type": "stream",
     "text": [
      "../build/lib/folium/__init__.py\n"
     ]
    }
   ],
   "source": [
    "import os\n",
    "import sys\n",
    "\n",
    "sys.path.insert(0, os.path.join(os.pardir, 'build', 'lib'),)\n",
    "\n",
    "\n",
    "import folium\n",
    "print(folium.__file__)"
   ]
  },
  {
   "cell_type": "code",
   "execution_count": 2,
   "metadata": {
    "collapsed": false
   },
   "outputs": [],
   "source": [
    "import pandas as pd\n",
    "\n",
    "state_geo = 'data/us-states.json'\n",
    "state_unemployment = 'data/US_Unemployment_Oct2012.csv'\n",
    "\n",
    "state_data = pd.read_csv(state_unemployment)\n",
    "\n",
    "# Let Folium determine the scale.\n",
    "states = folium.Map(location=[48, -102], zoom_start=3)\n",
    "states.geo_json(geo_path=state_geo, data=state_data,\n",
    "                columns=['State', 'Unemployment'],\n",
    "                key_on='feature.id',\n",
    "                fill_color='YlGn', fill_opacity=0.7, line_opacity=0.2,\n",
    "                legend_name='Unemployment Rate (%)')"
   ]
  },
  {
   "cell_type": "code",
   "execution_count": 3,
   "metadata": {
    "collapsed": false
   },
   "outputs": [
    {
     "data": {
      "text/html": [
       "<iframe src=\"files/states.html\" style=\"width: 960px; height: 500px;border: none\"></iframe>"
      ],
      "text/plain": [
       "<IPython.core.display.HTML object>"
      ]
     },
     "execution_count": 3,
     "metadata": {},
     "output_type": "execute_result"
    }
   ],
   "source": [
    "from inline import embed_html\n",
    "\n",
    "\n",
    "states.create_map(\"states.html\")\n",
    "embed_html(\"states.html\", width=960, height=500)"
   ]
  },
  {
   "cell_type": "code",
   "execution_count": 4,
   "metadata": {
    "collapsed": false
   },
   "outputs": [
    {
     "data": {
      "text/html": [
       "<iframe src=\"files/us_state_map.html\" style=\"width: 960px; height: 500px;border: none\"></iframe>"
      ],
      "text/plain": [
       "<IPython.core.display.HTML object>"
      ]
     },
     "execution_count": 4,
     "metadata": {},
     "output_type": "execute_result"
    }
   ],
   "source": [
    "# Lets define our own scale and change the line opacity\n",
    "states2 = folium.Map(location=[48, -102], zoom_start=3)\n",
    "states2.geo_json(geo_path=state_geo, data=state_data,\n",
    "                 columns=['State', 'Unemployment'],\n",
    "                 threshold_scale=[5, 6, 7, 8, 9, 10],\n",
    "                 key_on='feature.id',\n",
    "                 fill_color='BuPu', fill_opacity=0.7, line_opacity=0.5,\n",
    "                 legend_name='Unemployment Rate (%)',\n",
    "                 reset=True)\n",
    "\n",
    "states2.create_map(path='us_state_map.html')\n",
    "embed_html(\"us_state_map.html\", width=960, height=500)"
   ]
  }
 ],
 "metadata": {
  "kernelspec": {
   "display_name": "Python 3",
   "language": "python",
   "name": "python3"
  },
  "language_info": {
   "codemirror_mode": {
    "name": "ipython",
    "version": 3
   },
   "file_extension": ".py",
   "mimetype": "text/x-python",
   "name": "python",
   "nbconvert_exporter": "python",
   "pygments_lexer": "ipython3",
   "version": "3.4.1"
  }
 },
 "nbformat": 4,
 "nbformat_minor": 0
}
