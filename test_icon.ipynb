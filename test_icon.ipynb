{
 "cells": [
  {
   "cell_type": "code",
   "execution_count": 1,
   "metadata": {
    "collapsed": false
   },
   "outputs": [
    {
     "name": "stdout",
     "output_type": "stream",
     "text": [
      "/home/filipe/.virtualenvs/iris/lib/python2.7/site-packages/folium/__init__.py\n",
      "0.1.6\n"
     ]
    }
   ],
   "source": [
    "import folium\n",
    "\n",
    "print(folium.__file__)\n",
    "print(folium.__version__)"
   ]
  },
  {
   "cell_type": "code",
   "execution_count": 2,
   "metadata": {
    "collapsed": false
   },
   "outputs": [
    {
     "data": {
      "text/html": [
       "<iframe src=\"data:text/html;base64,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\" width=100%; height=500px; border: none\"></iframe>"
      ],
      "text/plain": [
       "<folium.folium.Map at 0x7fda98c33310>"
      ]
     },
     "execution_count": 2,
     "metadata": {},
     "output_type": "execute_result"
    }
   ],
   "source": [
    "mapa = folium.Map(location=[45.372, -121.6972], zoom_start=12,tiles='Stamen Terrain')\n",
    "\n",
    "mapa.simple_marker([45.3288, -121.6625], popup='Mt. Hood Meadows', marker_icon='cloud')\n",
    "mapa.simple_marker([45.3311, -121.7113], popup='Timberline Lodge', marker_color='green')\n",
    "mapa.simple_marker([45.3300, -121.6823], popup='simple',\n",
    "                   marker_color='red', marker_icon='info-sign')\n",
    "\n",
    "mapa"
   ]
  }
 ],
 "metadata": {
  "kernelspec": {
   "display_name": "Iris (Python 2)",
   "language": "python",
   "name": "iris_python2"
  },
  "language_info": {
   "codemirror_mode": {
    "name": "ipython",
    "version": 2
   },
   "file_extension": ".py",
   "mimetype": "text/x-python",
   "name": "python",
   "nbconvert_exporter": "python",
   "pygments_lexer": "ipython2",
   "version": "2.7.8"
  }
 },
 "nbformat": 4,
 "nbformat_minor": 0
}
