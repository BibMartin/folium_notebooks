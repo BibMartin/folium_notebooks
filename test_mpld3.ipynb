{
 "cells": [
  {
   "cell_type": "code",
   "execution_count": 1,
   "metadata": {
    "collapsed": false
   },
   "outputs": [
    {
     "name": "stdout",
     "output_type": "stream",
     "text": [
      "/home/filipe/.virtualenvs/iris/lib/python2.7/site-packages/folium/__init__.py\n",
      "0.1.6\n"
     ]
    }
   ],
   "source": [
    "import folium\n",
    "\n",
    "print(folium.__file__)\n",
    "print(folium.__version__)"
   ]
  },
  {
   "cell_type": "code",
   "execution_count": 2,
   "metadata": {
    "collapsed": false
   },
   "outputs": [],
   "source": [
    "import numpy as np\n",
    "import pandas as pd\n",
    "import numpy.ma as ma\n",
    "\n",
    "\n",
    "def make_data():\n",
    "    x = np.linspace(-np.pi, np.pi, 101)\n",
    "    sin = np.sin(x)\n",
    "    cos = np.cos(x)\n",
    "    cos[20:50] = np.NaN\n",
    "    return pd.DataFrame(np.asanyarray([sin, cos]).T, columns=['sin', 'cos'], index=x)"
   ]
  },
  {
   "cell_type": "code",
   "execution_count": 3,
   "metadata": {
    "collapsed": false
   },
   "outputs": [],
   "source": [
    "station = '42'\n",
    "lon, lat = -42, -21\n",
    "mapa = folium.Map(location=[lat, lon], zoom_start=5)\n",
    "\n",
    "df = make_data()\n",
    "resolution, width, height = 75, 7, 3"
   ]
  },
  {
   "cell_type": "markdown",
   "metadata": {},
   "source": [
    "### Simple text"
   ]
  },
  {
   "cell_type": "code",
   "execution_count": 4,
   "metadata": {
    "collapsed": false
   },
   "outputs": [],
   "source": [
    "popup = \"I should be texting a big chunk of text but I am lazy...\\n\" * 10\n",
    "kw = dict(popup=popup, marker_color=\"black\", marker_icon=\"ok\")\n",
    "mapa.simple_marker(location=[lat-5, lon-5], **kw)"
   ]
  },
  {
   "cell_type": "markdown",
   "metadata": {},
   "source": [
    "### PNG"
   ]
  },
  {
   "cell_type": "code",
   "execution_count": 5,
   "metadata": {
    "collapsed": false
   },
   "outputs": [],
   "source": [
    "import base64\n",
    "import matplotlib.pyplot as plt\n",
    "\n",
    "\n",
    "fig, ax = plt.subplots(figsize=(width, height))\n",
    "ax = df.plot(ax=ax, legend=False)\n",
    "ax.set_ylabel('Sea surface height (m)')\n",
    "png = 'mpld3_{}.png'.format(station)\n",
    "fig.savefig(png, dpi=resolution)\n",
    "\n",
    "popup = \"\"\"<div align='center'> {} <br><img src='{}' width='{}' height='{}'> </div>\"\"\"\n",
    "popup = popup.format('PNG', png, width*resolution, height*resolution)\n",
    "kw = dict(popup=popup, popup_width=width*resolution, marker_color=\"red\", marker_icon=\"ok\")\n",
    "\n",
    "mapa.simple_marker(location=[lat-2, lon-1], **kw)"
   ]
  },
  {
   "cell_type": "markdown",
   "metadata": {},
   "source": [
    "### Vega/Vincent HTML (does not work with missing values)"
   ]
  },
  {
   "cell_type": "code",
   "execution_count": 6,
   "metadata": {
    "collapsed": false
   },
   "outputs": [],
   "source": [
    "import vincent\n",
    "\n",
    "\n",
    "df.fillna(value='null', inplace=True)\n",
    "vis = vincent.Line(df, width=width*resolution, height=height*resolution)\n",
    "vis.legend(title='Vega')\n",
    "json = 'vega_{}.json'.format(station)\n",
    "vis.to_json(json)\n",
    "\n",
    "popup = (vis, json)\n",
    "kw.update(dict(marker_color=\"green\", popup=popup))\n",
    "\n",
    "mapa.simple_marker(location=[lat-1, lon+1], **kw)"
   ]
  },
  {
   "cell_type": "markdown",
   "metadata": {},
   "source": [
    "### mpld3 HTML"
   ]
  },
  {
   "cell_type": "code",
   "execution_count": 7,
   "metadata": {
    "collapsed": false
   },
   "outputs": [],
   "source": [
    "import mpld3\n",
    "from mpld3.plugins import LineLabelTooltip, connect\n",
    "\n",
    "\n",
    "fig, ax = plt.subplots(figsize=(width, height))\n",
    "ax = df.plot(ax=ax, legend=False)\n",
    "ax.set_ylabel('Sea surface height (m)')\n",
    "\n",
    "[mpld3.plugins.connect(fig, LineLabelTooltip(line, name)) for\n",
    " line, name in zip(ax.lines, df.columns)]\n",
    "\n",
    "html = 'mpld3_{}.html'.format(station)\n",
    "mpld3.save_html(fig, html)\n",
    "\n",
    "iframe = (\"<div align='center'> {} <br><iframe src='{}' \"\n",
    "          \"alt='mpld3 image' width='{}px' height='{}px' frameBorder='0'></div>\")\n",
    "\n",
    "popup = iframe.format('HTML', html, (width*resolution)+75, (height*resolution)+50)\n",
    "kw.update(dict(popup=popup, marker_color=\"blue\", popup_width=(width*resolution)+75))\n",
    "\n",
    "mapa.simple_marker(location=[lat+1, lon-1], **kw)"
   ]
  },
  {
   "cell_type": "markdown",
   "metadata": {},
   "source": [
    "### Just an idea: mpld3 JSON (akin to Vega)"
   ]
  },
  {
   "cell_type": "code",
   "execution_count": 8,
   "metadata": {
    "collapsed": false
   },
   "outputs": [],
   "source": [
    "if False:\n",
    "    json = 'mpld3_{}.json'.format(station)\n",
    "    mpld3.save_json(fig, json)"
   ]
  },
  {
   "cell_type": "code",
   "execution_count": 9,
   "metadata": {
    "collapsed": false
   },
   "outputs": [
    {
     "data": {
      "text/html": [
       "<iframe src=\"data:text/html;base64,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\" width=100%; height=500px; border: none\"></iframe>"
      ],
      "text/plain": [
       "<folium.folium.Map at 0x7f6db01affd0>"
      ]
     },
     "execution_count": 9,
     "metadata": {},
     "output_type": "execute_result"
    }
   ],
   "source": [
    "mapa # The new _repr_html is broken here. Need to carefully encode all pieces before hand."
   ]
  },
  {
   "cell_type": "code",
   "execution_count": 10,
   "metadata": {
    "collapsed": false
   },
   "outputs": [],
   "source": [
    "mapa.create_map(\"mapa.html\")"
   ]
  }
 ],
 "metadata": {
  "kernelspec": {
   "display_name": "Iris (Python 2)",
   "language": "python",
   "name": "iris_python2"
  },
  "language_info": {
   "codemirror_mode": {
    "name": "ipython",
    "version": 2
   },
   "file_extension": ".py",
   "mimetype": "text/x-python",
   "name": "python",
   "nbconvert_exporter": "python",
   "pygments_lexer": "ipython2",
   "version": "2.7.8"
  }
 },
 "nbformat": 4,
 "nbformat_minor": 0
}
