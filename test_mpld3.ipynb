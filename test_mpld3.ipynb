{
 "cells": [
  {
   "cell_type": "code",
   "execution_count": null,
   "metadata": {
    "collapsed": false
   },
   "outputs": [],
   "source": [
    "import os\n",
    "import sys\n",
    "\n",
    "sys.path.insert(0, os.path.join(os.pardir, 'build', 'lib'))\n",
    "\n",
    "\n",
    "import folium\n",
    "print(folium.__file__)"
   ]
  },
  {
   "cell_type": "code",
   "execution_count": null,
   "metadata": {
    "collapsed": false
   },
   "outputs": [],
   "source": [
    "import numpy as np\n",
    "import pandas as pd\n",
    "import numpy.ma as ma\n",
    "\n",
    "\n",
    "def make_data():\n",
    "    x = np.linspace(-np.pi, np.pi, 101)\n",
    "    sin = np.sin(x)\n",
    "    cos = np.cos(x)\n",
    "    cos[20:50] = np.NaN\n",
    "    return pd.DataFrame(np.asanyarray([sin, cos]).T, columns=['sin', 'cos'], index=x)"
   ]
  },
  {
   "cell_type": "code",
   "execution_count": null,
   "metadata": {
    "collapsed": false
   },
   "outputs": [],
   "source": [
    "station = '42'\n",
    "lon, lat = -42, -21\n",
    "mapa = folium.Map(location=[lat, lon], zoom_start=5)\n",
    "\n",
    "df = make_data()\n",
    "resolution, width, height = 75, 7, 3"
   ]
  },
  {
   "cell_type": "markdown",
   "metadata": {},
   "source": [
    "### Simple text"
   ]
  },
  {
   "cell_type": "code",
   "execution_count": null,
   "metadata": {
    "collapsed": false
   },
   "outputs": [],
   "source": [
    "popup = \"I should be texting a big chunk of text but I am lazy...\\n\" * 10\n",
    "kw = dict(popup=popup, marker_color=\"black\", marker_icon=\"ok\")\n",
    "mapa.simple_marker(location=[lat-5, lon-5], **kw)"
   ]
  },
  {
   "cell_type": "markdown",
   "metadata": {},
   "source": [
    "### PNG"
   ]
  },
  {
   "cell_type": "code",
   "execution_count": null,
   "metadata": {
    "collapsed": false
   },
   "outputs": [],
   "source": [
    "import matplotlib.pyplot as plt\n",
    "\n",
    "\n",
    "fig, ax = plt.subplots(figsize=(width, height))\n",
    "ax = df.plot(ax=ax, legend=False)\n",
    "ax.set_ylabel('Sea surface height (m)')\n",
    "png = 'mpld3_{}.png'.format(station)\n",
    "fig.savefig(png, dpi=resolution)\n",
    "\n",
    "popup = \"\"\"<div align='center'> {} <br><img src='{}' width='{}' height='{}'> </div>\"\"\"\n",
    "popup = popup.format('PNG', png, width*resolution, height*resolution)\n",
    "kw = dict(popup=popup, popup_width=width*resolution, marker_color=\"red\", marker_icon=\"ok\")\n",
    "\n",
    "mapa.simple_marker(location=[lat-2, lon-1], **kw)"
   ]
  },
  {
   "cell_type": "markdown",
   "metadata": {},
   "source": [
    "### Vega/Vincent HTML (does not work with missing values)"
   ]
  },
  {
   "cell_type": "code",
   "execution_count": null,
   "metadata": {
    "collapsed": false
   },
   "outputs": [],
   "source": [
    "import vincent\n",
    "\n",
    "\n",
    "df.fillna(value='null', inplace=True)\n",
    "vis = vincent.Line(df, width=width*resolution, height=height*resolution)\n",
    "vis.legend(title='Vega')\n",
    "json = 'vega_{}.json'.format(station)\n",
    "vis.to_json(json)\n",
    "\n",
    "popup = (vis, json)\n",
    "kw.update(dict(marker_color=\"green\", popup=popup)\n",
    "\n",
    "mapa.simple_marker(location=[lat-1, lon+1], **kw)"
   ]
  },
  {
   "cell_type": "markdown",
   "metadata": {},
   "source": [
    "### mpld3 HTML"
   ]
  },
  {
   "cell_type": "code",
   "execution_count": null,
   "metadata": {
    "collapsed": false
   },
   "outputs": [],
   "source": [
    "import mpld3\n",
    "from mpld3.plugins import LineLabelTooltip, connect\n",
    "\n",
    "\n",
    "fig, ax = plt.subplots(figsize=(width, height))\n",
    "ax = df.plot(ax=ax, legend=False)\n",
    "ax.set_ylabel('Sea surface height (m)')\n",
    "\n",
    "[mpld3.plugins.connect(fig, LineLabelTooltip(line, name)) for\n",
    " line, name in zip(ax.lines, df.columns)]\n",
    "\n",
    "html = 'mpld3_{}.html'.format(station)\n",
    "mpld3.save_html(fig, html)\n",
    "\n",
    "iframe = \"\"\"<div align='center'> {} <br><iframe src='{}' alt='mpld3 image' width='{}px' height='{}px' frameBorder='0'></div>\"\"\"\n",
    "\n",
    "popup = iframe.format('HTML', html, (width*resolution)+75, (height*resolution)+50)\n",
    "kw.update(dict(popup=popup, marker_color=\"blue\", popup_width=(width*resolution)+75))\n",
    "\n",
    "mapa.simple_marker(location=[lat+1, lon-1], **kw)"
   ]
  },
  {
   "cell_type": "markdown",
   "metadata": {},
   "source": [
    "### Just an idea: mpld3 JSON (akin to Vega)"
   ]
  },
  {
   "cell_type": "code",
   "execution_count": null,
   "metadata": {
    "collapsed": false
   },
   "outputs": [],
   "source": [
    "if False:\n",
    "    json = 'mpld3_{}.json'.format(station)\n",
    "    mpld3.save_json(fig, json)"
   ]
  },
  {
   "cell_type": "code",
   "execution_count": null,
   "metadata": {
    "collapsed": false
   },
   "outputs": [],
   "source": [
    "from inline import inline_map\n",
    "\n",
    "\n",
    "inline_map(mapa)"
   ]
  },
  {
   "cell_type": "code",
   "execution_count": null,
   "metadata": {
    "collapsed": true
   },
   "outputs": [],
   "source": [
    "mapa.create_map(\"mpld3.html\")"
   ]
  }
 ],
 "metadata": {
  "kernelspec": {
   "display_name": "Python 3",
   "language": "python",
   "name": "python3"
  },
  "language_info": {
   "codemirror_mode": {
    "name": "ipython",
    "version": 3
   },
   "file_extension": ".py",
   "mimetype": "text/x-python",
   "name": "python",
   "nbconvert_exporter": "python",
   "pygments_lexer": "ipython3",
   "version": "3.4.1"
  }
 },
 "nbformat": 4,
 "nbformat_minor": 0
}
