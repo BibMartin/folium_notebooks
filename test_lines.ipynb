{
 "cells": [
  {
   "cell_type": "code",
   "execution_count": 1,
   "metadata": {
    "collapsed": false
   },
   "outputs": [
    {
     "name": "stdout",
     "output_type": "stream",
     "text": [
      "/home/filipe/.virtualenvs/iris/lib/python2.7/site-packages/folium/__init__.py\n",
      "0.1.6\n"
     ]
    }
   ],
   "source": [
    "import folium\n",
    "\n",
    "print(folium.__file__)\n",
    "print(folium.__version__)"
   ]
  },
  {
   "cell_type": "code",
   "execution_count": 2,
   "metadata": {
    "collapsed": false
   },
   "outputs": [],
   "source": [
    "import numpy as np\n",
    "\n",
    "\n",
    "def get_coordinates(bbox):\n",
    "    \"\"\"\n",
    "    Create bounding box coordinates for the map.  It takes flat or\n",
    "    nested list/numpy.array and returns 5 points that closes square\n",
    "    around the borders.\n",
    "\n",
    "    Examples\n",
    "    --------\n",
    "    >>> bbox = [-87.40, 24.25, -74.70, 36.70]\n",
    "    >>> len(get_coordinates(bbox))\n",
    "    5\n",
    "\n",
    "    \"\"\"\n",
    "    bbox = np.asanyarray(bbox).ravel()\n",
    "    if bbox.size == 4:\n",
    "        bbox = bbox.reshape(2, 2)\n",
    "        coordinates = []\n",
    "        coordinates.append([bbox[0][1], bbox[0][0]])\n",
    "        coordinates.append([bbox[0][1], bbox[1][0]])\n",
    "        coordinates.append([bbox[1][1], bbox[1][0]])\n",
    "        coordinates.append([bbox[1][1], bbox[0][0]])\n",
    "        coordinates.append([bbox[0][1], bbox[0][0]])\n",
    "    else:\n",
    "        raise ValueError('Wrong number corners.'\n",
    "                         '  Expected 4 got {}'.format(bbox.size))\n",
    "    return coordinates"
   ]
  },
  {
   "cell_type": "code",
   "execution_count": 3,
   "metadata": {
    "collapsed": false
   },
   "outputs": [
    {
     "data": {
      "text/html": [
       "<iframe src=\"data:text/html;base64,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\" width=100%; height=500px; border: none\"></iframe>"
      ],
      "text/plain": [
       "<folium.folium.Map at 0x7f40b7d53dd0>"
      ]
     },
     "execution_count": 3,
     "metadata": {},
     "output_type": "execute_result"
    }
   ],
   "source": [
    "lat = 0\n",
    "lon = 0\n",
    "zoom_start = 1\n",
    "\n",
    "mapa = folium.Map(location=[lat, lon], zoom_start=zoom_start)\n",
    "\n",
    "\n",
    "kw = dict(line_opacity=1.0, line_weight=4)\n",
    "\n",
    "# Wrong.\n",
    "mapa.line(locations=[(2, 179), (2, -179)], line_color='red', **kw)\n",
    "\n",
    "# Correct.\n",
    "mapa.line(locations=[(-2, 179), (-2, 181)], line_color='blue', **kw)\n",
    "\n",
    "# Correct.\n",
    "mapa.line(locations=[(-6, -179), (-6, 179)], line_color='green', **kw)\n",
    "\n",
    "# Artifact?\n",
    "mapa.line(locations=[(12, -179), (12, 190)], line_color='orange', **kw)\n",
    "\n",
    "\n",
    "mapa"
   ]
  }
 ],
 "metadata": {
  "kernelspec": {
   "display_name": "Iris (Python 2)",
   "language": "python",
   "name": "iris_python2"
  },
  "language_info": {
   "codemirror_mode": {
    "name": "ipython",
    "version": 2
   },
   "file_extension": ".py",
   "mimetype": "text/x-python",
   "name": "python",
   "nbconvert_exporter": "python",
   "pygments_lexer": "ipython2",
   "version": "2.7.8"
  }
 },
 "nbformat": 4,
 "nbformat_minor": 0
}
