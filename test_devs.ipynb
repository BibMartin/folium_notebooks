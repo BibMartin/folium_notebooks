{
 "cells": [
  {
   "cell_type": "code",
   "execution_count": null,
   "metadata": {
    "collapsed": false
   },
   "outputs": [],
   "source": [
    "import os\n",
    "import sys\n",
    "\n",
    "sys.path.insert(0, os.path.join(os.pardir, 'build', 'lib'),)\n",
    "\n",
    "\n",
    "import folium\n",
    "print(folium.__file__)"
   ]
  },
  {
   "cell_type": "code",
   "execution_count": null,
   "metadata": {
    "collapsed": false
   },
   "outputs": [],
   "source": [
    "lon, lat = 0, 0\n",
    "\n",
    "zoom_start = 4"
   ]
  },
  {
   "cell_type": "code",
   "execution_count": null,
   "metadata": {
    "collapsed": false
   },
   "outputs": [],
   "source": [
    "from inline import inline_map\n",
    "\n",
    "positron = folium.Map(location=[lat, lon], tiles='Cartodb Positron', zoom_start=zoom_start)\n",
    "\n",
    "devs = dict(ocefpaf=[-12.974722, -38.476667])\n",
    "\n",
    "popup = \"<iframe src='https://github.com/{}?mobile=1' frameBorder='0'></iframe>\".format\n",
    "popup = \"<iframe src='http://github.com/ocefpaf' frameBorder='0'></iframe>\"\n",
    "\n",
    "for dev, location in devs.items():\n",
    "    print(popup)\n",
    "    positron.simple_marker(location, popup=popup)\n",
    "\n",
    "\n",
    "inline_map(positron)"
   ]
  }
 ],
 "metadata": {
  "kernelspec": {
   "display_name": "Iris (Python 2)",
   "language": "python",
   "name": "iris_python2"
  },
  "language_info": {
   "codemirror_mode": {
    "name": "ipython",
    "version": 2
   },
   "file_extension": ".py",
   "mimetype": "text/x-python",
   "name": "python",
   "nbconvert_exporter": "python",
   "pygments_lexer": "ipython2",
   "version": "2.7.8"
  }
 },
 "nbformat": 4,
 "nbformat_minor": 0
}
