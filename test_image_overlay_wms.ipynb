{
 "cells": [
  {
   "cell_type": "code",
   "execution_count": null,
   "metadata": {
    "collapsed": false
   },
   "outputs": [],
   "source": [
    "import folium\n",
    "\n",
    "print(folium.__file__)\n",
    "print(folium.__version__)"
   ]
  },
  {
   "cell_type": "code",
   "execution_count": null,
   "metadata": {
    "collapsed": false
   },
   "outputs": [],
   "source": [
    "import numpy.ma as ma\n",
    "import matplotlib.pyplot as plt\n",
    "\n",
    "from scipy.io import loadmat\n",
    "\n",
    "\n",
    "def colorize(array, cmap='rainbow'):\n",
    "    normed_data = (array - array.min()) / (array.max() - array.min())\n",
    "    cm = plt.cm.get_cmap(cmap)\n",
    "    return cm(normed_data)\n",
    "\n",
    "\n",
    "merc = loadmat('./data/mercator_temperature.mat', squeeze_me=True)\n",
    "x, y = merc['x'], merc['y']\n",
    "level = 10  # 10 meters temperature.\n",
    "data = ma.masked_invalid(merc['temp'][level, ...])\n",
    "\n",
    "colored_data = colorize(data, cmap='rainbow')"
   ]
  },
  {
   "cell_type": "code",
   "execution_count": null,
   "metadata": {
    "collapsed": false
   },
   "outputs": [],
   "source": [
    "import numpy as np\n",
    "from datetime import datetime\n",
    "\n",
    "mapa = folium.Map(location=[y.mean(), x.mean()], zoom_start=5)\n",
    "\n",
    "mapa.image_overlay(np.flipud(colored_data),\n",
    "                   min_lat=y.min(), max_lat=y.max(),\n",
    "                   min_lon=x.min(), max_lon=x.max(),\n",
    "                   opacity=0.5)\n",
    "\n",
    "\n",
    "jd_now = datetime.utcnow()\n",
    "wms = folium.WmsTileLayer(name='hfradar 2km',\n",
    "                          url=('http://hfradar.ndbc.noaa.gov/tilesavg.php?'\n",
    "                               's=10&e=100&x={x}&y={y}&z={z}&t=' +\n",
    "                               str(jd_now.year) + '-' + str(jd_now.month) +\n",
    "                               '-' + str(jd_now.day) + ' ' +\n",
    "                               str(jd_now.hour-2) + ':00:00&rez=2'))\n",
    "\n",
    "mapa.add_children(wms)\n",
    "mapa.add_children(folium.LayerControl())\n",
    "\n",
    "mapa"
   ]
  }
 ],
 "metadata": {
  "kernelspec": {
   "display_name": "Iris (Python 2)",
   "language": "python",
   "name": "iris_python2"
  },
  "language_info": {
   "codemirror_mode": {
    "name": "ipython",
    "version": 2
   },
   "file_extension": ".py",
   "mimetype": "text/x-python",
   "name": "python",
   "nbconvert_exporter": "python",
   "pygments_lexer": "ipython2",
   "version": "2.7.8"
  }
 },
 "nbformat": 4,
 "nbformat_minor": 0
}
