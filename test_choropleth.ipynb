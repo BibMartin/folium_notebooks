{
 "cells": [
  {
   "cell_type": "code",
   "execution_count": null,
   "metadata": {
    "collapsed": false
   },
   "outputs": [],
   "source": [
    "import folium\n",
    "\n",
    "print(folium.__file__)\n",
    "print(folium.__version__)"
   ]
  },
  {
   "cell_type": "code",
   "execution_count": null,
   "metadata": {
    "collapsed": false
   },
   "outputs": [],
   "source": [
    "import pandas as pd\n",
    "\n",
    "state_unemployment = 'data/US_Unemployment_Oct2012.csv'\n",
    "df = pd.read_csv(state_unemployment)"
   ]
  },
  {
   "cell_type": "code",
   "execution_count": null,
   "metadata": {
    "collapsed": false
   },
   "outputs": [],
   "source": [
    "import json\n",
    "import numpy as np\n",
    "\n",
    "\n",
    "with open('data/us-states.json') as f:\n",
    "    states = json.load(f)\n",
    "\n",
    "\n",
    "geometry, geo_id = [], []\n",
    "\n",
    "for state in states['features']:\n",
    "    geometry.append(state['geometry']['coordinates'])\n",
    "    geo_id.append(state['id'])\n",
    "\n",
    "states = pd.DataFrame(np.c_[geo_id, geometry], columns=['state', 'geometry'])"
   ]
  },
  {
   "cell_type": "markdown",
   "metadata": {},
   "source": [
    "# One-to-one mapping"
   ]
  },
  {
   "cell_type": "code",
   "execution_count": null,
   "metadata": {
    "collapsed": false
   },
   "outputs": [],
   "source": [
    "df.columns, states.columns"
   ]
  },
  {
   "cell_type": "code",
   "execution_count": null,
   "metadata": {
    "collapsed": false
   },
   "outputs": [],
   "source": [
    "df.shape, states.shape"
   ]
  },
  {
   "cell_type": "code",
   "execution_count": null,
   "metadata": {
    "collapsed": false
   },
   "outputs": [],
   "source": [
    "# Let Folium determine the scale.\n",
    "mapa = folium.Map(location=[48, -102], zoom_start=3)\n",
    "\n",
    "mapa.geo_json(geo_path='us-states.json', data=df,\n",
    "              columns=['State', 'Unemployment'],\n",
    "              key_on='feature.id',  # Check your GeoJSON for the name!\n",
    "              fill_color='YlGn', fill_opacity=0.7, line_opacity=0.2,\n",
    "              legend_name='Unemployment Rate (%)')\n",
    "\n",
    "mapa"
   ]
  }
 ],
 "metadata": {
  "kernelspec": {
   "display_name": "Iris (Python 2)",
   "language": "python",
   "name": "iris_python2"
  },
  "language_info": {
   "codemirror_mode": {
    "name": "ipython",
    "version": 2
   },
   "file_extension": ".py",
   "mimetype": "text/x-python",
   "name": "python",
   "nbconvert_exporter": "python",
   "pygments_lexer": "ipython2",
   "version": "2.7.8"
  }
 },
 "nbformat": 4,
 "nbformat_minor": 0
}
