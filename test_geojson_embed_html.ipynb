{
 "metadata": {
  "kernelspec": {
   "display_name": "Python 3",
   "language": "python",
   "name": "python3"
  },
  "language_info": {
   "codemirror_mode": {
    "name": "ipython",
    "version": 3
   },
   "file_extension": ".py",
   "mimetype": "text/x-python",
   "name": "python",
   "nbconvert_exporter": "python",
   "pygments_lexer": "ipython3",
   "version": "3.4.1"
  },
  "name": "",
  "signature": "sha256:2eb5df91714add6e66de135b1d7681e62c07fde6d1e504a64ef336a5fa683736"
 },
 "nbformat": 3,
 "nbformat_minor": 0,
 "worksheets": [
  {
   "cells": [
    {
     "cell_type": "code",
     "collapsed": false,
     "input": [
      "import os\n",
      "import sys\n",
      "\n",
      "sys.path.insert(0, os.path.join(os.pardir, 'build', 'lib'),)\n",
      "\n",
      "\n",
      "import folium\n",
      "print(folium.__file__)"
     ],
     "language": "python",
     "metadata": {},
     "outputs": [
      {
       "output_type": "stream",
       "stream": "stdout",
       "text": [
        "/home/filipe/.virtualenvs/blog/lib/python2.7/site-packages/folium/__init__.py\n"
       ]
      }
     ],
     "prompt_number": 1
    },
    {
     "cell_type": "code",
     "collapsed": false,
     "input": [
      "import pandas as pd\n",
      "\n",
      "state_geo = 'data/us-states.json'\n",
      "state_unemployment = 'data/US_Unemployment_Oct2012.csv'\n",
      "\n",
      "state_data = pd.read_csv(state_unemployment)\n",
      "\n",
      "# Let Folium determine the scale.\n",
      "states = folium.Map(location=[48, -102], zoom_start=3)\n",
      "states.geo_json(geo_path=state_geo, data=state_data,\n",
      "                columns=['State', 'Unemployment'],\n",
      "                key_on='feature.id',\n",
      "                fill_color='YlGn', fill_opacity=0.7, line_opacity=0.2,\n",
      "                legend_name='Unemployment Rate (%)')"
     ],
     "language": "python",
     "metadata": {},
     "outputs": [],
     "prompt_number": 2
    },
    {
     "cell_type": "code",
     "collapsed": false,
     "input": [
      "from inline import embed_html\n",
      "\n",
      "\n",
      "states.create_map(\"states.html\")\n",
      "embed_html(\"states.html\", width=960, height=500)"
     ],
     "language": "python",
     "metadata": {},
     "outputs": [
      {
       "html": [
        "<iframe src=\"files/states.html\" style=\"width: 960px; height: 500px;border: none\"></iframe>"
       ],
       "metadata": {},
       "output_type": "pyout",
       "prompt_number": 3,
       "text": [
        "<IPython.core.display.HTML at 0x7fcbad635b10>"
       ]
      }
     ],
     "prompt_number": 3
    },
    {
     "cell_type": "code",
     "collapsed": false,
     "input": [
      "# Lets define our own scale and change the line opacity\n",
      "states2 = folium.Map(location=[48, -102], zoom_start=3)\n",
      "states2.geo_json(geo_path=state_geo, data=state_data,\n",
      "                 columns=['State', 'Unemployment'],\n",
      "                 threshold_scale=[5, 6, 7, 8, 9, 10],\n",
      "                 key_on='feature.id',\n",
      "                 fill_color='Spectral', fill_opacity=0.7, line_opacity=0.5,\n",
      "                 legend_name='Unemployment Rate (%)',\n",
      "                 reset=True)\n",
      "\n",
      "states2.create_map(path='us_state_map.html')\n",
      "embed_html(\"us_state_map.html\", width=960, height=500)"
     ],
     "language": "python",
     "metadata": {},
     "outputs": [
      {
       "html": [
        "<iframe src=\"files/us_state_map.html\" style=\"width: 960px; height: 500px;border: none\"></iframe>"
       ],
       "metadata": {},
       "output_type": "pyout",
       "prompt_number": 4,
       "text": [
        "<IPython.core.display.HTML at 0x7fcbcfc525d0>"
       ]
      }
     ],
     "prompt_number": 4
    }
   ],
   "metadata": {}
  }
 ]
}